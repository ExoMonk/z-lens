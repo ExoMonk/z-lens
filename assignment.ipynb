{
 "cells": [
  {
   "cell_type": "markdown",
   "metadata": {},
   "source": [
    "# Lens Data Science Assessment\n",
    "\n",
    "Context\n",
    "---\n",
    "\n",
    "Lens Protocol is a composable and decentralized social graph. It is a powerful tool to empower web3 user adoption through creativity & connexion.\n",
    "POAP are digital mementos, minted in celebration of life's remarkable moments. User can collect tokenized experiences and directly have an on-chain proof of attendance.\n",
    "\n",
    "### Libraries & Utilitaries"
   ]
  },
  {
   "cell_type": "code",
   "execution_count": 1,
   "metadata": {},
   "outputs": [
    {
     "data": {
      "text/plain": [
       "True"
      ]
     },
     "execution_count": 1,
     "metadata": {},
     "output_type": "execute_result"
    }
   ],
   "source": [
    "import pandas as pd\n",
    "import os\n",
    "import time\n",
    "import requests\n",
    "import json\n",
    "from dotenv import load_dotenv\n",
    "load_dotenv()"
   ]
  },
  {
   "cell_type": "code",
   "execution_count": 2,
   "metadata": {},
   "outputs": [
    {
     "data": {
      "text/html": [
       "<div>\n",
       "<style scoped>\n",
       "    .dataframe tbody tr th:only-of-type {\n",
       "        vertical-align: middle;\n",
       "    }\n",
       "\n",
       "    .dataframe tbody tr th {\n",
       "        vertical-align: top;\n",
       "    }\n",
       "\n",
       "    .dataframe thead th {\n",
       "        text-align: right;\n",
       "    }\n",
       "</style>\n",
       "<table border=\"1\" class=\"dataframe\">\n",
       "  <thead>\n",
       "    <tr style=\"text-align: right;\">\n",
       "      <th></th>\n",
       "      <th>profile_id</th>\n",
       "      <th>owned_by</th>\n",
       "      <th>is_default</th>\n",
       "      <th>timestamp</th>\n",
       "    </tr>\n",
       "  </thead>\n",
       "  <tbody>\n",
       "    <tr>\n",
       "      <th>0</th>\n",
       "      <td>0x9fef</td>\n",
       "      <td>0x6FB3af602BBdc75C03d1C5A442E2637615CC9b4f</td>\n",
       "      <td>False</td>\n",
       "      <td>2022-07-12 19:37:40.000000 UTC</td>\n",
       "    </tr>\n",
       "    <tr>\n",
       "      <th>1</th>\n",
       "      <td>0x01346a</td>\n",
       "      <td>0x7eF69546D56c2F7c499aC872E19cd000f82CFDc8</td>\n",
       "      <td>False</td>\n",
       "      <td>2022-10-01 05:03:48.000000 UTC</td>\n",
       "    </tr>\n",
       "    <tr>\n",
       "      <th>2</th>\n",
       "      <td>0x01346f</td>\n",
       "      <td>0xB85dC382fE75c161FDCa9D2f99CdCc4CD4babE92</td>\n",
       "      <td>False</td>\n",
       "      <td>2022-10-01 05:11:31.000000 UTC</td>\n",
       "    </tr>\n",
       "    <tr>\n",
       "      <th>3</th>\n",
       "      <td>0x68ab</td>\n",
       "      <td>0xe9FC2311a56cC11aa70039C39C908709e11cef74</td>\n",
       "      <td>False</td>\n",
       "      <td>2022-06-09 13:42:21.000000 UTC</td>\n",
       "    </tr>\n",
       "    <tr>\n",
       "      <th>4</th>\n",
       "      <td>0x013738</td>\n",
       "      <td>0xEf5c845D39Eb608C88b742eFd5739063eDC25888</td>\n",
       "      <td>False</td>\n",
       "      <td>2022-10-02 03:53:39.000000 UTC</td>\n",
       "    </tr>\n",
       "  </tbody>\n",
       "</table>\n",
       "</div>"
      ],
      "text/plain": [
       "  profile_id                                    owned_by  is_default  \\\n",
       "0     0x9fef  0x6FB3af602BBdc75C03d1C5A442E2637615CC9b4f       False   \n",
       "1   0x01346a  0x7eF69546D56c2F7c499aC872E19cd000f82CFDc8       False   \n",
       "2   0x01346f  0xB85dC382fE75c161FDCa9D2f99CdCc4CD4babE92       False   \n",
       "3     0x68ab  0xe9FC2311a56cC11aa70039C39C908709e11cef74       False   \n",
       "4   0x013738  0xEf5c845D39Eb608C88b742eFd5739063eDC25888       False   \n",
       "\n",
       "                        timestamp  \n",
       "0  2022-07-12 19:37:40.000000 UTC  \n",
       "1  2022-10-01 05:03:48.000000 UTC  \n",
       "2  2022-10-01 05:11:31.000000 UTC  \n",
       "3  2022-06-09 13:42:21.000000 UTC  \n",
       "4  2022-10-02 03:53:39.000000 UTC  "
      ]
     },
     "execution_count": 2,
     "metadata": {},
     "output_type": "execute_result"
    }
   ],
   "source": [
    "lens_user_sample = pd.read_csv('profiles_sample.csv')\n",
    "lens_user_sample.head()"
   ]
  },
  {
   "cell_type": "code",
   "execution_count": null,
   "metadata": {},
   "outputs": [],
   "source": []
  }
 ],
 "metadata": {
  "kernelspec": {
   "display_name": "Python 3.8.13 ('cairo_venv': venv)",
   "language": "python",
   "name": "python3"
  },
  "language_info": {
   "codemirror_mode": {
    "name": "ipython",
    "version": 3
   },
   "file_extension": ".py",
   "mimetype": "text/x-python",
   "name": "python",
   "nbconvert_exporter": "python",
   "pygments_lexer": "ipython3",
   "version": "3.8.13"
  },
  "orig_nbformat": 4,
  "vscode": {
   "interpreter": {
    "hash": "00e6eb6dd223f24124b3e0aab30d95fd2add79aced50af4b20174984c231568e"
   }
  }
 },
 "nbformat": 4,
 "nbformat_minor": 2
}
